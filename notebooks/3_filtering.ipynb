{
 "cells": [
  {
   "cell_type": "markdown",
   "metadata": {
    "slideshow": {
     "slide_type": "slide"
    }
   },
   "source": [
    "# Filtering"
   ]
  },
  {
   "cell_type": "markdown",
   "metadata": {
    "slideshow": {
     "slide_type": "subslide"
    }
   },
   "source": [
    "Nornir doesn't have the concept of \"roles\" or \"classes\" or anything like that. Instead, it provides different mechanisms for you to classify and filter hosts so you can implement the mechanism that fits your workflow better."
   ]
  },
  {
   "cell_type": "markdown",
   "metadata": {
    "slideshow": {
     "slide_type": "fragment"
    }
   },
   "source": [
    "Those three mechanisms are:\n",
    "\n",
    "1. Simple filtering\n",
    "2. Advanced filtering\n",
    "3. Functions"
   ]
  },
  {
   "cell_type": "markdown",
   "metadata": {
    "slideshow": {
     "slide_type": "subslide"
    }
   },
   "source": [
    "Let's start by initializing nornir."
   ]
  },
  {
   "cell_type": "code",
   "execution_count": 1,
   "metadata": {},
   "outputs": [],
   "source": [
    "from nornir import InitNornir\n",
    "nr = InitNornir(\n",
    "    inventory={\n",
    "        \"options\": {\n",
    "            \"host_file\": \"3_filtering/inventory/hosts.yaml\",\n",
    "            \"group_file\": \"3_filtering/inventory/groups.yaml\",\n",
    "            \"defaults_file\": \"3_filtering/inventory/defaults.yaml\",\n",
    "        }\n",
    "    }\n",
    ")"
   ]
  },
  {
   "cell_type": "markdown",
   "metadata": {
    "slideshow": {
     "slide_type": "slide"
    }
   },
   "source": [
    "## Simple filtering\n",
    "\n",
    "It allows filtering by matching on `<k,v>` pairs. It's the simplest way of filtering hosts, however, it is not very flexible. "
   ]
  },
  {
   "cell_type": "code",
   "execution_count": 2,
   "metadata": {
    "slideshow": {
     "slide_type": "subslide"
    }
   },
   "outputs": [
    {
     "name": "stdout",
     "output_type": "stream",
     "text": [
      "leaf00.bma: leaf\n",
      "leaf01.bma: leaf\n",
      "leaf00.cmh: leaf\n",
      "leaf01.cmh: leaf\n"
     ]
    }
   ],
   "source": [
    "# role and region are user-defined data\n",
    "leafs = nr.filter(role=\"leaf\")\n",
    "for host, host_data in leafs.inventory.hosts.items():\n",
    "    print(f\"{host}: {host_data['role']}\")"
   ]
  },
  {
   "cell_type": "code",
   "execution_count": 3,
   "metadata": {
    "slideshow": {
     "slide_type": "fragment"
    }
   },
   "outputs": [
    {
     "name": "stdout",
     "output_type": "stream",
     "text": [
      "leaf00.bma: leaf, EU\n",
      "leaf01.bma: leaf, EU\n"
     ]
    }
   ],
   "source": [
    "leafs_eu = nr.filter(role=\"leaf\", region=\"EU\")\n",
    "for host, host_data in leafs_eu.inventory.hosts.items():\n",
    "    print(f\"{host}: {host_data['role']}, {host_data['region']}\")"
   ]
  },
  {
   "cell_type": "code",
   "execution_count": 4,
   "metadata": {
    "slideshow": {
     "slide_type": "fragment"
    }
   },
   "outputs": [
    {
     "name": "stdout",
     "output_type": "stream",
     "text": [
      "leaf00.bma: leaf, EU\n",
      "leaf01.bma: leaf, EU\n"
     ]
    }
   ],
   "source": [
    "# filtering is additive\n",
    "my_devs = nr.filter(role=\"leaf\")\n",
    "my_devs = my_devs.filter(region=\"EU\")\n",
    "for host, host_data in my_devs.inventory.hosts.items():\n",
    "    print(f\"{host}: {host_data['role']}, {host_data['region']}\")"
   ]
  },
  {
   "cell_type": "code",
   "execution_count": 5,
   "metadata": {
    "scrolled": true,
    "slideshow": {
     "slide_type": "fragment"
    }
   },
   "outputs": [
    {
     "name": "stdout",
     "output_type": "stream",
     "text": [
      "spine00.bma: junos\n",
      "leaf00.bma: junos\n",
      "spine00.cmh: junos\n",
      "leaf00.cmh: junos\n"
     ]
    }
   ],
   "source": [
    "# you can also filter using well-known attributes\n",
    "junos_devs = nr.filter(platform=\"junos\")\n",
    "for host, host_data in junos_devs.inventory.hosts.items():\n",
    "    print(f\"{host}: {host_data.platform}\")"
   ]
  },
  {
   "cell_type": "markdown",
   "metadata": {
    "slideshow": {
     "slide_type": "slide"
    }
   },
   "source": [
    "## Advanced Filtering\n",
    "\n",
    "Extremely powerful and flexible, however, it's not as straightforward."
   ]
  },
  {
   "cell_type": "markdown",
   "metadata": {
    "slideshow": {
     "slide_type": "subslide"
    }
   },
   "source": [
    "First, you will need to import the ``F`` object:"
   ]
  },
  {
   "cell_type": "code",
   "execution_count": 6,
   "metadata": {},
   "outputs": [],
   "source": [
    "from nornir.core.filter import F"
   ]
  },
  {
   "cell_type": "markdown",
   "metadata": {
    "slideshow": {
     "slide_type": "subslide"
    }
   },
   "source": [
    "Let's start by porting the examples in \"simple filtering\". "
   ]
  },
  {
   "cell_type": "code",
   "execution_count": 7,
   "metadata": {
    "slideshow": {
     "slide_type": "fragment"
    }
   },
   "outputs": [
    {
     "name": "stdout",
     "output_type": "stream",
     "text": [
      "leaf00.bma: leaf\n",
      "leaf01.bma: leaf\n",
      "leaf00.cmh: leaf\n",
      "leaf01.cmh: leaf\n"
     ]
    }
   ],
   "source": [
    "# role and region are user-defined data\n",
    "leafs = nr.filter(F(role=\"leaf\"))\n",
    "for host, host_data in leafs.inventory.hosts.items():\n",
    "    print(f\"{host}: {host_data['role']}\")"
   ]
  },
  {
   "cell_type": "code",
   "execution_count": 8,
   "metadata": {
    "slideshow": {
     "slide_type": "fragment"
    }
   },
   "outputs": [
    {
     "name": "stdout",
     "output_type": "stream",
     "text": [
      "leaf00.bma: leaf, EU\n",
      "leaf01.bma: leaf, EU\n"
     ]
    }
   ],
   "source": [
    "leafs_eu = nr.filter(F(role=\"leaf\") & F(region=\"EU\"))\n",
    "for host, host_data in leafs_eu.inventory.hosts.items():\n",
    "    print(f\"{host}: {host_data['role']}, {host_data['region']}\")"
   ]
  },
  {
   "cell_type": "code",
   "execution_count": 9,
   "metadata": {
    "slideshow": {
     "slide_type": "fragment"
    }
   },
   "outputs": [
    {
     "name": "stdout",
     "output_type": "stream",
     "text": [
      "leaf00.bma: leaf, EU\n",
      "leaf01.bma: leaf, EU\n"
     ]
    }
   ],
   "source": [
    "# filtering is additive\n",
    "my_devs = nr.filter(F(role=\"leaf\"))\n",
    "my_devs = my_devs.filter(F(region=\"EU\"))\n",
    "for host, host_data in my_devs.inventory.hosts.items():\n",
    "    print(f\"{host}: {host_data['role']}, {host_data['region']}\")"
   ]
  },
  {
   "cell_type": "code",
   "execution_count": 10,
   "metadata": {
    "scrolled": true,
    "slideshow": {
     "slide_type": "fragment"
    }
   },
   "outputs": [
    {
     "name": "stdout",
     "output_type": "stream",
     "text": [
      "spine00.bma: junos\n",
      "leaf00.bma: junos\n",
      "spine00.cmh: junos\n",
      "leaf00.cmh: junos\n"
     ]
    }
   ],
   "source": [
    "# you can also filter using well-known attributes\n",
    "junos_devs = nr.filter(F(platform=\"junos\"))\n",
    "for host, host_data in junos_devs.inventory.hosts.items():\n",
    "    print(f\"{host}: {host_data.platform}\")"
   ]
  },
  {
   "cell_type": "markdown",
   "metadata": {
    "slideshow": {
     "slide_type": "subslide"
    }
   },
   "source": [
    "``F`` objects support logical operations:"
   ]
  },
  {
   "cell_type": "code",
   "execution_count": 11,
   "metadata": {
    "slideshow": {
     "slide_type": "fragment"
    }
   },
   "outputs": [
    {
     "name": "stdout",
     "output_type": "stream",
     "text": [
      "leaf00.bma: leaf, EU\n",
      "leaf01.bma: leaf, EU\n"
     ]
    }
   ],
   "source": [
    "# leafs in the EU\n",
    "leafs_eu = nr.filter(F(role=\"leaf\") & F(region=\"EU\"))\n",
    "for host, host_data in leafs_eu.inventory.hosts.items():\n",
    "    print(f\"{host}: {host_data['role']}, {host_data['region']}\")"
   ]
  },
  {
   "cell_type": "code",
   "execution_count": 12,
   "metadata": {
    "slideshow": {
     "slide_type": "fragment"
    }
   },
   "outputs": [
    {
     "name": "stdout",
     "output_type": "stream",
     "text": [
      "leaf00.cmh: leaf, NA\n",
      "leaf01.cmh: leaf, NA\n"
     ]
    }
   ],
   "source": [
    "# leaves NOT in the EU\n",
    "leafs_not_eu = nr.filter(F(role=\"leaf\") & ~F(region=\"EU\"))\n",
    "for host, host_data in leafs_not_eu.inventory.hosts.items():\n",
    "    print(f\"{host}: {host_data['role']}, {host_data['region']}\")"
   ]
  },
  {
   "cell_type": "code",
   "execution_count": 13,
   "metadata": {
    "slideshow": {
     "slide_type": "fragment"
    }
   },
   "outputs": [
    {
     "name": "stdout",
     "output_type": "stream",
     "text": [
      "spine01.bma: eos\n",
      "leaf01.bma: eos\n",
      "spine01.cmh: ios\n",
      "leaf01.cmh: ios\n"
     ]
    }
   ],
   "source": [
    "# either ios or eos switches\n",
    "ios_or_eos = nr.filter(F(platform=\"ios\") | F(platform=\"eos\"))\n",
    "for host, host_data in ios_or_eos.inventory.hosts.items():\n",
    "    print(f\"{host}: {host_data.platform}\")"
   ]
  },
  {
   "cell_type": "code",
   "execution_count": 14,
   "metadata": {
    "slideshow": {
     "slide_type": "fragment"
    }
   },
   "outputs": [
    {
     "name": "stdout",
     "output_type": "stream",
     "text": [
      "leaf00.cmh: junos, leaf, NA\n"
     ]
    }
   ],
   "source": [
    "# junos acting as leaves located outside the EU\n",
    "junos_leaves_not_in_eu = nr.filter(F(platform=\"junos\") & F(role=\"leaf\") & ~F(region=\"EU\"))\n",
    "for host, host_data in junos_leaves_not_in_eu.inventory.hosts.items():\n",
    "    print(f\"{host}: {host_data.platform}, {host_data['role']}, {host_data['region']}\")"
   ]
  },
  {
   "cell_type": "markdown",
   "metadata": {
    "slideshow": {
     "slide_type": "subslide"
    }
   },
   "source": [
    "The F objects also let's you filter by nested data"
   ]
  },
  {
   "cell_type": "code",
   "execution_count": 15,
   "metadata": {
    "slideshow": {
     "slide_type": "fragment"
    }
   },
   "outputs": [
    {
     "name": "stdout",
     "output_type": "stream",
     "text": [
      "\r\n",
      "    data:  # user-defined data\r\n",
      "        site: bma\r\n",
      "        role: spine\r\n",
      "        region: EU\r\n",
      "        system:\r\n",
      "            image: 17.2R2   # image version\r\n",
      "            uptime: 100     # in days, somehow the inventory knows this\r\n",
      "\r\n"
     ]
    }
   ],
   "source": [
    "#  we have added similar information to all the hosts to represent with image they are running\n",
    "!sed '10,18!d' 3_filtering/inventory/hosts.yaml"
   ]
  },
  {
   "cell_type": "code",
   "execution_count": 16,
   "metadata": {
    "slideshow": {
     "slide_type": "fragment"
    }
   },
   "outputs": [
    {
     "name": "stdout",
     "output_type": "stream",
     "text": [
      "leaf00.bma: junos, 14.1X53-D46\n",
      "leaf00.cmh: junos, 14.1X53-D46\n"
     ]
    }
   ],
   "source": [
    "junos_image = nr.filter(F(platform=\"junos\") & F(system__image=\"14.1X53-D46\"))\n",
    "for host, host_data in junos_image.inventory.hosts.items():\n",
    "    print(f\"{host}: {host_data.platform}, {host_data['system']['image']}\")"
   ]
  },
  {
   "cell_type": "markdown",
   "metadata": {
    "slideshow": {
     "slide_type": "subslide"
    }
   },
   "source": [
    "The `F` object also lets you perform certain operations on objects:"
   ]
  },
  {
   "cell_type": "code",
   "execution_count": 17,
   "metadata": {
    "slideshow": {
     "slide_type": "fragment"
    }
   },
   "outputs": [
    {
     "name": "stdout",
     "output_type": "stream",
     "text": [
      "spine00.bma: junos, 17.2R2\n",
      "spine00.cmh: junos, 17.2R1\n"
     ]
    }
   ],
   "source": [
    "junos_17 = nr.filter(F(platform=\"junos\") & F(system__image__startswith=\"17\"))\n",
    "for host, host_data in junos_17.inventory.hosts.items():\n",
    "    print(f\"{host}: {host_data.platform}, {host_data['system']['image']}\")"
   ]
  },
  {
   "cell_type": "code",
   "execution_count": 18,
   "metadata": {
    "slideshow": {
     "slide_type": "fragment"
    }
   },
   "outputs": [
    {
     "name": "stdout",
     "output_type": "stream",
     "text": [
      "spine00.bma: 100\n",
      "spine01.bma: 100\n",
      "spine01.cmh: 50\n",
      "leaf00.cmh: 60\n"
     ]
    }
   ],
   "source": [
    "such_uptime = nr.filter(F(system__uptime__ge=50))\n",
    "for host, host_data in such_uptime.inventory.hosts.items():\n",
    "    print(f\"{host}: {host_data['system']['uptime']}\")"
   ]
  },
  {
   "cell_type": "code",
   "execution_count": 19,
   "metadata": {
    "slideshow": {
     "slide_type": "fragment"
    }
   },
   "outputs": [
    {
     "name": "stdout",
     "output_type": "stream",
     "text": [
      "leaf00.bma: junos, 14.1X53-D46\n",
      "spine00.cmh: junos, 17.2R1\n",
      "leaf00.cmh: junos, 14.1X53-D46\n"
     ]
    }
   ],
   "source": [
    "various_images = nr.filter(F(platform=\"junos\") & F(system__image__any=[\"14.1X53-D46\", \"17.2R1\"]))\n",
    "for host, host_data in various_images.inventory.hosts.items():\n",
    "    print(f\"{host}: {host_data.platform}, {host_data['system']['image']}\")"
   ]
  },
  {
   "cell_type": "markdown",
   "metadata": {
    "slideshow": {
     "slide_type": "slide"
    }
   },
   "source": [
    "## Functions\n",
    "\n",
    "You can also filter objects by providing your own function. Such function will accept a `host` as parameter and needs to return either `True` (accept)  or `False` (filter)."
   ]
  },
  {
   "cell_type": "code",
   "execution_count": 20,
   "metadata": {
    "slideshow": {
     "slide_type": "subslide"
    }
   },
   "outputs": [],
   "source": [
    "import re\n",
    "\n",
    "def eos_maintenance_images(host):\n",
    "    \"\"\" EOS images end either in M (maintenance images) or F (feature images)\"\"\"\n",
    "    return bool(re.match(\".*M$\", host[\"system\"][\"image\"]))"
   ]
  },
  {
   "cell_type": "code",
   "execution_count": 21,
   "metadata": {
    "slideshow": {
     "slide_type": "fragment"
    }
   },
   "outputs": [
    {
     "name": "stdout",
     "output_type": "stream",
     "text": [
      "spine01.bma: eos, 4.19.4M\n",
      "leaf01.bma: eos, 4.17.4M\n"
     ]
    }
   ],
   "source": [
    "maintenance_images = nr.filter(filter_func=eos_maintenance_images)\n",
    "for host, host_data in maintenance_images.inventory.hosts.items():\n",
    "    print(f\"{host}: {host_data.platform}, {host_data['system']['image']}\")"
   ]
  }
 ],
 "metadata": {
  "celltoolbar": "Slideshow",
  "kernelspec": {
   "display_name": "Python 3",
   "language": "python",
   "name": "python3"
  },
  "language_info": {
   "codemirror_mode": {
    "name": "ipython",
    "version": 3
   },
   "file_extension": ".py",
   "mimetype": "text/x-python",
   "name": "python",
   "nbconvert_exporter": "python",
   "pygments_lexer": "ipython3",
   "version": "3.7.0"
  }
 },
 "nbformat": 4,
 "nbformat_minor": 2
}
