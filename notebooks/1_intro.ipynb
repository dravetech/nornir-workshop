{
 "cells": [
  {
   "cell_type": "markdown",
   "metadata": {
    "slideshow": {
     "slide_type": "slide"
    }
   },
   "source": [
    "# NORNIR\n",
    "### David Barroso Pardo @dbarrosop"
   ]
  },
  {
   "cell_type": "markdown",
   "metadata": {
    "slideshow": {
     "slide_type": "slide"
    }
   },
   "source": [
    "# Introduction"
   ]
  },
  {
   "cell_type": "markdown",
   "metadata": {
    "slideshow": {
     "slide_type": "subslide"
    }
   },
   "source": [
    "## What's Nornir?\n",
    "\n",
    "Pluggable multi-threaded framework with inventory management to help operate collections of devices\n",
    "\n",
    "![title](1_intro/img/intro.png)"
   ]
  },
  {
   "cell_type": "markdown",
   "metadata": {
    "slideshow": {
     "slide_type": "subslide"
    }
   },
   "source": [
    "## Why Nornir\n",
    "\n",
    "Because it's written in python and meant to be used with python"
   ]
  },
  {
   "cell_type": "markdown",
   "metadata": {
    "slideshow": {
     "slide_type": "fragment"
    }
   },
   "source": [
    "* Orders of magnitude faster than YAML-based alternatives\n",
    "* Integrate natively with other python frameworks like flask, django, click, etc...\n",
    "* Easier to extend\n",
    "* Cleaner logic\n",
    "* Leverage linters, debuggers and loggers and IDEs for python"
   ]
  },
  {
   "cell_type": "code",
   "execution_count": 1,
   "metadata": {
    "slideshow": {
     "slide_type": "subslide"
    }
   },
   "outputs": [
    {
     "name": "stdout",
     "output_type": "stream",
     "text": [
      "\u001b[1m\u001b[36mcommand*************************************************************************\u001b[0m\n",
      "\u001b[0m\u001b[1m\u001b[34m* leaf00.bma ** changed : False ************************************************\u001b[0m\n",
      "\u001b[0m\u001b[1m\u001b[32mvvvv command ** changed : False vvvvvvvvvvvvvvvvvvvvvvvvvvvvvvvvvvvvvvvvvvvvvvvv INFO\u001b[0m\n",
      "\u001b[0mHi!\n",
      "\u001b[0m\n",
      "\u001b[0m\u001b[1m\u001b[32m^^^^ END command ^^^^^^^^^^^^^^^^^^^^^^^^^^^^^^^^^^^^^^^^^^^^^^^^^^^^^^^^^^^^^^^\u001b[0m\n",
      "\u001b[0m\u001b[1m\u001b[34m* leaf01.bma ** changed : False ************************************************\u001b[0m\n",
      "\u001b[0m\u001b[1m\u001b[32mvvvv command ** changed : False vvvvvvvvvvvvvvvvvvvvvvvvvvvvvvvvvvvvvvvvvvvvvvvv INFO\u001b[0m\n",
      "\u001b[0mHi!\n",
      "\u001b[0m\n",
      "\u001b[0m\u001b[1m\u001b[32m^^^^ END command ^^^^^^^^^^^^^^^^^^^^^^^^^^^^^^^^^^^^^^^^^^^^^^^^^^^^^^^^^^^^^^^\u001b[0m\n",
      "\u001b[0m\u001b[1m\u001b[34m* spine00.bma ** changed : False ***********************************************\u001b[0m\n",
      "\u001b[0m\u001b[1m\u001b[32mvvvv command ** changed : False vvvvvvvvvvvvvvvvvvvvvvvvvvvvvvvvvvvvvvvvvvvvvvvv INFO\u001b[0m\n",
      "\u001b[0mHi!\n",
      "\u001b[0m\n",
      "\u001b[0m\u001b[1m\u001b[32m^^^^ END command ^^^^^^^^^^^^^^^^^^^^^^^^^^^^^^^^^^^^^^^^^^^^^^^^^^^^^^^^^^^^^^^\u001b[0m\n",
      "\u001b[0m\u001b[1m\u001b[34m* spine01.bma ** changed : False ***********************************************\u001b[0m\n",
      "\u001b[0m\u001b[1m\u001b[32mvvvv command ** changed : False vvvvvvvvvvvvvvvvvvvvvvvvvvvvvvvvvvvvvvvvvvvvvvvv INFO\u001b[0m\n",
      "\u001b[0mHi!\n",
      "\u001b[0m\n",
      "\u001b[0m\u001b[1m\u001b[32m^^^^ END command ^^^^^^^^^^^^^^^^^^^^^^^^^^^^^^^^^^^^^^^^^^^^^^^^^^^^^^^^^^^^^^^\u001b[0m\n",
      "\u001b[0m"
     ]
    }
   ],
   "source": [
    "from nornir import InitNornir\n",
    "from nornir.plugins.tasks.commands import command\n",
    "from nornir.plugins.functions.text import print_result\n",
    "\n",
    "nr = InitNornir(config_file=\"1_intro/config.yaml\")\n",
    "result = nr.run(task=command,\n",
    "                command=\"echo Hi!\")\n",
    "print_result(result, vars=[\"stdout\"])"
   ]
  },
  {
   "cell_type": "markdown",
   "metadata": {
    "slideshow": {
     "slide_type": "slide"
    }
   },
   "source": [
    "# Installation"
   ]
  },
  {
   "cell_type": "markdown",
   "metadata": {
    "slideshow": {
     "slide_type": "subslide"
    }
   },
   "source": [
    "To install nornir execute the following in your python environment:\n",
    "\n",
    "```\n",
    ">>> pip install nornir\n",
    "```"
   ]
  },
  {
   "cell_type": "markdown",
   "metadata": {
    "slideshow": {
     "slide_type": "subslide"
    }
   },
   "source": [
    "## Running this presentation\n",
    "\n",
    "This presentation is a [jupyter](https://jupyter.org/) playbook and all the code is embedded and runnable. To do so:\n",
    "\n",
    "1. Go to your python environment\n",
    "2. Clone the repo [https://github.com/dravetech/nornir-workshop](https://github.com/dravetech/nornir-workshop)\n",
    "3. Execute:\n",
    "```\n",
    "cd nornir-workshop\n",
    "pip install -r requirements.txt\n",
    "jupyter notebook notebooks/\n",
    "```\n",
    "4. Open the URL [http://localhost:8888](http://localhost:8888) in your browser\n",
    "5. Open any file with the extension `.ipynb`\n",
    "6. Have fun!"
   ]
  },
  {
   "cell_type": "markdown",
   "metadata": {
    "slideshow": {
     "slide_type": "slide"
    }
   },
   "source": [
    "# Initializing Nornir"
   ]
  },
  {
   "cell_type": "markdown",
   "metadata": {
    "slideshow": {
     "slide_type": "subslide"
    }
   },
   "source": [
    "## Configuration\n",
    "\n",
    "To initialize nornir you need configuration. There are three ways of configuring Nornir:\n",
    "1. With a configuration file\n",
    "2. Directly in the code\n",
    "3. With a combination of (1) and (2)"
   ]
  },
  {
   "cell_type": "markdown",
   "metadata": {
    "slideshow": {
     "slide_type": "subslide"
    }
   },
   "source": [
    "## With a configuration file"
   ]
  },
  {
   "cell_type": "code",
   "execution_count": 2,
   "metadata": {},
   "outputs": [
    {
     "name": "stdout",
     "output_type": "stream",
     "text": [
      "---\n",
      "num_workers: 20\n",
      "inventory:\n",
      "    options:\n",
      "        host_file: 1_intro/inventory/hosts.yaml\n",
      "        group_file: 1_intro/inventory/groups.yaml\n",
      "        defaults_file: 1_intro/inventory/defaults.yaml\n",
      "\u001b[0m\u001b[0m"
     ]
    }
   ],
   "source": [
    "!cat 1_intro/config.yaml"
   ]
  },
  {
   "cell_type": "code",
   "execution_count": 3,
   "metadata": {},
   "outputs": [
    {
     "name": "stdout",
     "output_type": "stream",
     "text": [
      "Number of threads:\u001b[0m \u001b[0m20\u001b[0m\n",
      "\u001b[0mHosts file:\u001b[0m \u001b[0m1_intro/inventory/hosts.yaml\u001b[0m\n",
      "\u001b[0mGroups file:\u001b[0m \u001b[0m1_intro/inventory/groups.yaml\u001b[0m\n",
      "\u001b[0mDefaults file:\u001b[0m \u001b[0m1_intro/inventory/defaults.yaml\u001b[0m\n",
      "\u001b[0m"
     ]
    }
   ],
   "source": [
    "from nornir import InitNornir\n",
    "nr = InitNornir(config_file=\"1_intro/config.yaml\")\n",
    "print(\"Number of threads:\", nr.config.num_workers)\n",
    "print(\"Hosts file:\", nr.config.inventory.options[\"host_file\"])\n",
    "print(\"Groups file:\", nr.config.inventory.options[\"group_file\"])\n",
    "print(\"Defaults file:\", nr.config.inventory.options[\"defaults_file\"])"
   ]
  },
  {
   "cell_type": "markdown",
   "metadata": {
    "slideshow": {
     "slide_type": "subslide"
    }
   },
   "source": [
    "## With code"
   ]
  },
  {
   "cell_type": "code",
   "execution_count": 4,
   "metadata": {},
   "outputs": [
    {
     "name": "stdout",
     "output_type": "stream",
     "text": [
      "Number of threads:\u001b[0m \u001b[0m100\u001b[0m\n",
      "\u001b[0mHosts file:\u001b[0m \u001b[0m1_intro/inventory/hosts.yaml\u001b[0m\n",
      "\u001b[0mGroups file:\u001b[0m \u001b[0m1_intro/inventory/groups.yaml\u001b[0m\n",
      "\u001b[0mDefaults file:\u001b[0m \u001b[0m1_intro/inventory/defaults.yaml\u001b[0m\n",
      "\u001b[0m"
     ]
    }
   ],
   "source": [
    "from nornir import InitNornir\n",
    "nr = InitNornir(\n",
    "    num_workers=100,\n",
    "    inventory={\n",
    "        \"options\": {\n",
    "            \"host_file\": \"1_intro/inventory/hosts.yaml\",\n",
    "            \"group_file\": \"1_intro/inventory/groups.yaml\",\n",
    "            \"defaults_file\": \"1_intro/inventory/defaults.yaml\",\n",
    "        }\n",
    "    }\n",
    ")\n",
    "print(\"Number of threads:\", nr.config.num_workers)\n",
    "print(\"Hosts file:\", nr.config.inventory.options[\"host_file\"])\n",
    "print(\"Groups file:\", nr.config.inventory.options[\"group_file\"])\n",
    "print(\"Defaults file:\", nr.config.inventory.options[\"defaults_file\"])"
   ]
  },
  {
   "cell_type": "markdown",
   "metadata": {
    "slideshow": {
     "slide_type": "subslide"
    }
   },
   "source": [
    "## With a combination"
   ]
  },
  {
   "cell_type": "code",
   "execution_count": 5,
   "metadata": {},
   "outputs": [
    {
     "name": "stdout",
     "output_type": "stream",
     "text": [
      "Number of threads:\u001b[0m \u001b[0m100\u001b[0m\n",
      "\u001b[0mHosts file:\u001b[0m \u001b[0m1_intro/inventory/hosts.yaml\u001b[0m\n",
      "\u001b[0mGroups file:\u001b[0m \u001b[0m1_intro/inventory/groups.yaml\u001b[0m\n",
      "\u001b[0mDefaults file:\u001b[0m \u001b[0m1_intro/inventory/defaults.yaml\u001b[0m\n",
      "\u001b[0m"
     ]
    }
   ],
   "source": [
    "from nornir import InitNornir\n",
    "nr = InitNornir(\n",
    "    config_file=\"1_intro/config.yaml\",\n",
    "    num_workers=100,\n",
    ")\n",
    "print(\"Number of threads:\", nr.config.num_workers)\n",
    "print(\"Hosts file:\", nr.config.inventory.options[\"host_file\"])\n",
    "print(\"Groups file:\", nr.config.inventory.options[\"group_file\"])\n",
    "print(\"Defaults file:\", nr.config.inventory.options[\"defaults_file\"])"
   ]
  }
 ],
 "metadata": {
  "celltoolbar": "Slideshow",
  "kernelspec": {
   "display_name": "Python 3",
   "language": "python",
   "name": "python3"
  },
  "language_info": {
   "codemirror_mode": {
    "name": "ipython",
    "version": 3
   },
   "file_extension": ".py",
   "mimetype": "text/x-python",
   "name": "python",
   "nbconvert_exporter": "python",
   "pygments_lexer": "ipython3",
   "version": "3.7.0"
  }
 },
 "nbformat": 4,
 "nbformat_minor": 2
}
