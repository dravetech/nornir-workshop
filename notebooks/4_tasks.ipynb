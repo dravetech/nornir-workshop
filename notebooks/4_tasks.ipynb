{
 "cells": [
  {
   "cell_type": "markdown",
   "metadata": {
    "slideshow": {
     "slide_type": "slide"
    }
   },
   "source": [
    "# Running tasks"
   ]
  },
  {
   "cell_type": "markdown",
   "metadata": {
    "slideshow": {
     "slide_type": "subslide"
    }
   },
   "source": [
    "Let's start by initializing nornir."
   ]
  },
  {
   "cell_type": "code",
   "execution_count": 1,
   "metadata": {},
   "outputs": [],
   "source": [
    "from nornir import InitNornir\n",
    "nr = InitNornir(\n",
    "    inventory={\n",
    "        \"options\": {\n",
    "            \"host_file\": \"4_tasks/inventory/hosts.yaml\",\n",
    "            \"group_file\": \"4_tasks/inventory/groups.yaml\",\n",
    "            \"defaults_file\": \"4_tasks/inventory/defaults.yaml\",\n",
    "        }\n",
    "    }\n",
    ")"
   ]
  },
  {
   "cell_type": "markdown",
   "metadata": {
    "slideshow": {
     "slide_type": "slide"
    }
   },
   "source": [
    "## Running a task"
   ]
  },
  {
   "cell_type": "code",
   "execution_count": 2,
   "metadata": {
    "slideshow": {
     "slide_type": "fragment"
    }
   },
   "outputs": [],
   "source": [
    "from nornir.plugins.tasks.networking import napalm_get\n",
    "\n",
    "# we filter the hosts (optional, this would be the equivalent of \"role\")\n",
    "spine_bma = nr.filter(role=\"spine\", site=\"bma\")\n",
    "\n",
    "# we run the task, saving the result in the variable `r`\n",
    "r = spine_bma.run(name=\"Get facts\",\n",
    "                  task=napalm_get,\n",
    "                  getters=[\"facts\"])"
   ]
  },
  {
   "cell_type": "markdown",
   "metadata": {
    "slideshow": {
     "slide_type": "slide"
    }
   },
   "source": [
    "You can use the helper function `print_result` to print the result on the screen:"
   ]
  },
  {
   "cell_type": "code",
   "execution_count": 3,
   "metadata": {
    "slideshow": {
     "slide_type": "-"
    }
   },
   "outputs": [
    {
     "name": "stdout",
     "output_type": "stream",
     "text": [
      "\u001b[1m\u001b[36mGet facts***********************************************************************\u001b[0m\n",
      "\u001b[0m\u001b[1m\u001b[34m* spine00.bma ** changed : False ***********************************************\u001b[0m\n",
      "\u001b[0m\u001b[1m\u001b[32mvvvv Get facts ** changed : False vvvvvvvvvvvvvvvvvvvvvvvvvvvvvvvvvvvvvvvvvvvvvv INFO\u001b[0m\n",
      "\u001b[0m{\u001b[0m \u001b[0m'facts'\u001b[0m: \u001b[0m{\u001b[0m \u001b[0m'fqdn'\u001b[0m: \u001b[0m'localhost'\u001b[0m,\n",
      "             \u001b[0m'hostname'\u001b[0m: \u001b[0m'localhost'\u001b[0m,\n",
      "             \u001b[0m'interface_list'\u001b[0m: \u001b[0m['Ethernet1', 'Ethernet2', 'Management1']\u001b[0m,\n",
      "             \u001b[0m'model'\u001b[0m: \u001b[0m'vEOS'\u001b[0m,\n",
      "             \u001b[0m'os_version'\u001b[0m: \u001b[0m'4.20.1F-6820520.4201F'\u001b[0m,\n",
      "             \u001b[0m'serial_number'\u001b[0m: \u001b[0m''\u001b[0m,\n",
      "             \u001b[0m'uptime'\u001b[0m: \u001b[0m317919\u001b[0m,\n",
      "             \u001b[0m'vendor'\u001b[0m: \u001b[0m'Arista'\u001b[0m}\u001b[0m}\u001b[0m\n",
      "\u001b[0m\u001b[1m\u001b[32m^^^^ END Get facts ^^^^^^^^^^^^^^^^^^^^^^^^^^^^^^^^^^^^^^^^^^^^^^^^^^^^^^^^^^^^^\u001b[0m\n",
      "\u001b[0m\u001b[1m\u001b[34m* spine01.bma ** changed : False ***********************************************\u001b[0m\n",
      "\u001b[0m\u001b[1m\u001b[32mvvvv Get facts ** changed : False vvvvvvvvvvvvvvvvvvvvvvvvvvvvvvvvvvvvvvvvvvvvvv INFO\u001b[0m\n",
      "\u001b[0m{\u001b[0m \u001b[0m'facts'\u001b[0m: \u001b[0m{\u001b[0m \u001b[0m'fqdn'\u001b[0m: \u001b[0m'vsrx'\u001b[0m,\n",
      "             \u001b[0m'hostname'\u001b[0m: \u001b[0m'vsrx'\u001b[0m,\n",
      "             \u001b[0m'interface_list'\u001b[0m: \u001b[0m['ge-0/0/0', 'ge-0/0/1', 'vlan']\u001b[0m,\n",
      "             \u001b[0m'model'\u001b[0m: \u001b[0m'FIREFLY-PERIMETER'\u001b[0m,\n",
      "             \u001b[0m'os_version'\u001b[0m: \u001b[0m'12.1X47-D20.7'\u001b[0m,\n",
      "             \u001b[0m'serial_number'\u001b[0m: \u001b[0m'5f5d14568760'\u001b[0m,\n",
      "             \u001b[0m'uptime'\u001b[0m: \u001b[0m4338\u001b[0m,\n",
      "             \u001b[0m'vendor'\u001b[0m: \u001b[0m'Juniper'\u001b[0m}\u001b[0m}\u001b[0m\n",
      "\u001b[0m\u001b[1m\u001b[32m^^^^ END Get facts ^^^^^^^^^^^^^^^^^^^^^^^^^^^^^^^^^^^^^^^^^^^^^^^^^^^^^^^^^^^^^\u001b[0m\n",
      "\u001b[0m"
     ]
    }
   ],
   "source": [
    "from nornir.plugins.functions.text import print_result\n",
    "\n",
    "print_result(r)"
   ]
  },
  {
   "cell_type": "markdown",
   "metadata": {
    "slideshow": {
     "slide_type": "subslide"
    }
   },
   "source": [
    "You can also work with the result programmatically:"
   ]
  },
  {
   "cell_type": "code",
   "execution_count": 4,
   "metadata": {},
   "outputs": [
    {
     "name": "stdout",
     "output_type": "stream",
     "text": [
      "spine00.bma: MultiResult: [Result: \"Get facts\"]\u001b[0m\n",
      "\u001b[0mspine01.bma: MultiResult: [Result: \"Get facts\"]\u001b[0m\n",
      "\u001b[0m"
     ]
    }
   ],
   "source": [
    "# running a task will return a dict-like object\n",
    "# where the keys are the hosts' names and the values\n",
    "# a list of results (more on why a list later)\n",
    "for host, task_results in r.items():\n",
    "    print(f\"{host}: {task_results}\")"
   ]
  },
  {
   "cell_type": "code",
   "execution_count": 5,
   "metadata": {},
   "outputs": [
    {
     "name": "stdout",
     "output_type": "stream",
     "text": [
      "spine00.bma: 4.20.1F-6820520.4201F\u001b[0m\n",
      "\u001b[0mspine01.bma: 12.1X47-D20.7\u001b[0m\n",
      "\u001b[0m"
     ]
    }
   ],
   "source": [
    "for host, task_results in r.items():\n",
    "    my_task = task_results[0]         # the only task we ran\n",
    "    my_task_result = my_task.result   # this should contain the exact output from napalm's `get_facts`\n",
    "    print(f\"{host}: {my_task_result['facts']['os_version']}\")"
   ]
  },
  {
   "cell_type": "markdown",
   "metadata": {
    "slideshow": {
     "slide_type": "slide"
    }
   },
   "source": [
    "## Running multiple tasks: a simple example"
   ]
  },
  {
   "cell_type": "code",
   "execution_count": 6,
   "metadata": {},
   "outputs": [],
   "source": [
    "from nornir.plugins.tasks.networking import napalm_cli\n",
    "\n",
    "\n",
    "# we group the tasks\n",
    "def a_bunch_of_tasks(task):\n",
    "    task.run(name=\"Get facts\",\n",
    "             task=napalm_get,\n",
    "             getters=[\"facts\"])\n",
    "    task.run(name=\"Run CLI command\",\n",
    "             task=napalm_cli,\n",
    "             commands=[\"show version\"])\n",
    "    return \"I am done!!!\"\n",
    "\n",
    "    \n",
    "r = spine_bma.run(name=\"Running a bunch of tasks\",\n",
    "                  task=a_bunch_of_tasks)"
   ]
  },
  {
   "cell_type": "code",
   "execution_count": 7,
   "metadata": {
    "slideshow": {
     "slide_type": "subslide"
    }
   },
   "outputs": [
    {
     "name": "stdout",
     "output_type": "stream",
     "text": [
      "\u001b[1m\u001b[36mRunning a bunch of tasks********************************************************\u001b[0m\n",
      "\u001b[0m\u001b[1m\u001b[34m* spine00.bma ** changed : False ***********************************************\u001b[0m\n",
      "\u001b[0m\u001b[1m\u001b[32mvvvv Running a bunch of tasks ** changed : False vvvvvvvvvvvvvvvvvvvvvvvvvvvvvvv INFO\u001b[0m\n",
      "\u001b[0mI am done!!!\u001b[0m\n",
      "\u001b[0m\u001b[1m\u001b[32m---- Get facts ** changed : False ---------------------------------------------- INFO\u001b[0m\n",
      "\u001b[0m{\u001b[0m \u001b[0m'facts'\u001b[0m: \u001b[0m{\u001b[0m \u001b[0m'fqdn'\u001b[0m: \u001b[0m'localhost'\u001b[0m,\n",
      "             \u001b[0m'hostname'\u001b[0m: \u001b[0m'localhost'\u001b[0m,\n",
      "             \u001b[0m'interface_list'\u001b[0m: \u001b[0m['Ethernet1', 'Ethernet2', 'Management1']\u001b[0m,\n",
      "             \u001b[0m'model'\u001b[0m: \u001b[0m'vEOS'\u001b[0m,\n",
      "             \u001b[0m'os_version'\u001b[0m: \u001b[0m'4.20.1F-6820520.4201F'\u001b[0m,\n",
      "             \u001b[0m'serial_number'\u001b[0m: \u001b[0m''\u001b[0m,\n",
      "             \u001b[0m'uptime'\u001b[0m: \u001b[0m317919\u001b[0m,\n",
      "             \u001b[0m'vendor'\u001b[0m: \u001b[0m'Arista'\u001b[0m}\u001b[0m}\u001b[0m\n",
      "\u001b[0m\u001b[1m\u001b[32m---- Run CLI command ** changed : False ---------------------------------------- INFO\u001b[0m\n",
      "\u001b[0m{\u001b[0m \u001b[0m'show version'\u001b[0m: \u001b[0m'Arista vEOS\\n'\u001b[0m\n",
      "                  \u001b[0m'Hardware version:\\n'\u001b[0m\n",
      "                  \u001b[0m'Serial number:\\n'\u001b[0m\n",
      "                  \u001b[0m'System MAC address:  0800.273e.22fd\\n'\u001b[0m\n",
      "                  \u001b[0m'\\n'\u001b[0m\n",
      "                  \u001b[0m'Software image version: 4.20.1F\\n'\u001b[0m\n",
      "                  \u001b[0m'Architecture:           i386\\n'\u001b[0m\n",
      "                  \u001b[0m'Internal build version: 4.20.1F-6820520.4201F\\n'\u001b[0m\n",
      "                  \u001b[0m'Internal build ID:\\n'\u001b[0m\n",
      "                  \u001b[0m'790a11e8-5aaf-4be7-a11a-e61795d05b91\\n'\u001b[0m\n",
      "                  \u001b[0m'\\n'\u001b[0m\n",
      "                  \u001b[0m'Uptime:                 1 hour and 16 minutes\\n'\u001b[0m\n",
      "                  \u001b[0m'Total memory:           2017324 kB\\n'\u001b[0m\n",
      "                  \u001b[0m'Free memory:            1237124 kB\\n'\u001b[0m}\u001b[0m\n",
      "\u001b[0m\u001b[1m\u001b[32m^^^^ END Running a bunch of tasks ^^^^^^^^^^^^^^^^^^^^^^^^^^^^^^^^^^^^^^^^^^^^^^\u001b[0m\n",
      "\u001b[0m\u001b[1m\u001b[34m* spine01.bma ** changed : False ***********************************************\u001b[0m\n",
      "\u001b[0m\u001b[1m\u001b[32mvvvv Running a bunch of tasks ** changed : False vvvvvvvvvvvvvvvvvvvvvvvvvvvvvvv INFO\u001b[0m\n",
      "\u001b[0mI am done!!!\u001b[0m\n",
      "\u001b[0m\u001b[1m\u001b[32m---- Get facts ** changed : False ---------------------------------------------- INFO\u001b[0m\n",
      "\u001b[0m{\u001b[0m \u001b[0m'facts'\u001b[0m: \u001b[0m{\u001b[0m \u001b[0m'fqdn'\u001b[0m: \u001b[0m'vsrx'\u001b[0m,\n",
      "             \u001b[0m'hostname'\u001b[0m: \u001b[0m'vsrx'\u001b[0m,\n",
      "             \u001b[0m'interface_list'\u001b[0m: \u001b[0m['ge-0/0/0', 'ge-0/0/1', 'vlan']\u001b[0m,\n",
      "             \u001b[0m'model'\u001b[0m: \u001b[0m'FIREFLY-PERIMETER'\u001b[0m,\n",
      "             \u001b[0m'os_version'\u001b[0m: \u001b[0m'12.1X47-D20.7'\u001b[0m,\n",
      "             \u001b[0m'serial_number'\u001b[0m: \u001b[0m'5f5d14568760'\u001b[0m,\n",
      "             \u001b[0m'uptime'\u001b[0m: \u001b[0m4338\u001b[0m,\n",
      "             \u001b[0m'vendor'\u001b[0m: \u001b[0m'Juniper'\u001b[0m}\u001b[0m}\u001b[0m\n",
      "\u001b[0m\u001b[1m\u001b[32m---- Run CLI command ** changed : False ---------------------------------------- INFO\u001b[0m\n",
      "\u001b[0m{\u001b[0m \u001b[0m'show version'\u001b[0m: \u001b[0m'Hostname: vsrx\\n'\u001b[0m\n",
      "                  \u001b[0m'Model: firefly-perimeter\\n'\u001b[0m\n",
      "                  \u001b[0m'JUNOS Software Release [12.1X47-D20.7]\\n'\u001b[0m}\u001b[0m\n",
      "\u001b[0m\u001b[1m\u001b[32m^^^^ END Running a bunch of tasks ^^^^^^^^^^^^^^^^^^^^^^^^^^^^^^^^^^^^^^^^^^^^^^\u001b[0m\n",
      "\u001b[0m"
     ]
    }
   ],
   "source": [
    "print_result(r)"
   ]
  },
  {
   "cell_type": "code",
   "execution_count": 8,
   "metadata": {
    "slideshow": {
     "slide_type": "subslide"
    }
   },
   "outputs": [
    {
     "name": "stdout",
     "output_type": "stream",
     "text": [
      "spine00.bma: 4.20.1F-6820520.4201F\u001b[0m\n",
      "\u001b[0mArista vEOS\n",
      "Hardware version:\n",
      "Serial number:\n",
      "System MAC address:  0800.273e.22fd\n",
      "\n",
      "Software image version: 4.20.1F\n",
      "Architecture:           i386\n",
      "Internal build version: 4.20.1F-6820520.4201F\n",
      "Internal build ID:\n",
      "790a11e8-5aaf-4be7-a11a-e61795d05b91\n",
      "\n",
      "Uptime:                 1 hour and 16 minutes\n",
      "Total memory:           2017324 kB\n",
      "Free memory:            1237124 kB\n",
      "\u001b[0m\n",
      "\u001b[0m---> I am done!!!\u001b[0m\n",
      "\u001b[0m=================\u001b[0m\n",
      "\u001b[0mspine01.bma: 12.1X47-D20.7\u001b[0m\n",
      "\u001b[0mHostname: vsrx\n",
      "Model: firefly-perimeter\n",
      "JUNOS Software Release [12.1X47-D20.7]\n",
      "\u001b[0m\n",
      "\u001b[0m---> I am done!!!\u001b[0m\n",
      "\u001b[0m=================\u001b[0m\n",
      "\u001b[0m"
     ]
    }
   ],
   "source": [
    "for host, task_results in r.items():\n",
    "    grouped_result = task_results[0].result\n",
    "    get_facts_result = task_results[1].result\n",
    "    cli_result = task_results[2].result\n",
    "    print(f\"{host}: {get_facts_result['facts']['os_version']}\")\n",
    "    print(f\"{cli_result['show version']}\")\n",
    "    print(f\"---> {grouped_result}\")\n",
    "    print(\"=================\")"
   ]
  }
 ],
 "metadata": {
  "celltoolbar": "Slideshow",
  "kernelspec": {
   "display_name": "Python 3",
   "language": "python",
   "name": "python3"
  },
  "language_info": {
   "codemirror_mode": {
    "name": "ipython",
    "version": 3
   },
   "file_extension": ".py",
   "mimetype": "text/x-python",
   "name": "python",
   "nbconvert_exporter": "python",
   "pygments_lexer": "ipython3",
   "version": "3.7.0"
  }
 },
 "nbformat": 4,
 "nbformat_minor": 2
}
