{
 "cells": [
  {
   "cell_type": "markdown",
   "metadata": {
    "slideshow": {
     "slide_type": "slide"
    }
   },
   "source": [
    "# Python goodies"
   ]
  },
  {
   "cell_type": "markdown",
   "metadata": {
    "slideshow": {
     "slide_type": "slide"
    }
   },
   "source": [
    "## IDE integration\n",
    "\n",
    "IDE stands for Integrated development environment. It's usually a text editor that understands the code and provides things like:\n",
    "\n",
    "* hinting\n",
    "* code completion\n",
    "* debugging capabilities\n",
    "* etc\n",
    "\n",
    "Nornir is a first class python citizen which means you get all these features."
   ]
  },
  {
   "cell_type": "markdown",
   "metadata": {
    "slideshow": {
     "slide_type": "subslide"
    }
   },
   "source": [
    "Let's see a quick example using [Visual Studio Code](https://code.visualstudio.com)"
   ]
  },
  {
   "cell_type": "markdown",
   "metadata": {
    "slideshow": {
     "slide_type": "subslide"
    }
   },
   "source": [
    "![inline documentation](6_integration_examples/img/IDE/1.png)\n",
    "\n",
    "Inline docuentation"
   ]
  },
  {
   "cell_type": "markdown",
   "metadata": {
    "slideshow": {
     "slide_type": "subslide"
    }
   },
   "source": [
    "![autocompletion](6_integration_examples/img/IDE/2.png)\n",
    "\n",
    "Autocompletion"
   ]
  },
  {
   "cell_type": "markdown",
   "metadata": {
    "slideshow": {
     "slide_type": "subslide"
    }
   },
   "source": [
    "![debugging](6_integration_examples/img/IDE/3.png)\n",
    "\n",
    "Debugging allows you to set breakpoints so you can inspect the state of the program at a particular point in time."
   ]
  },
  {
   "cell_type": "markdown",
   "metadata": {
    "slideshow": {
     "slide_type": "subslide"
    }
   },
   "source": [
    "![debugging](6_integration_examples/img/IDE/4.png)\n",
    "\n",
    "State for device `spine00.bma`"
   ]
  },
  {
   "cell_type": "markdown",
   "metadata": {
    "slideshow": {
     "slide_type": "subslide"
    }
   },
   "source": [
    "![debugging](6_integration_examples/img/IDE/5.png)\n",
    "\n",
    "`desired_users` we passed to the function"
   ]
  },
  {
   "cell_type": "markdown",
   "metadata": {
    "slideshow": {
     "slide_type": "subslide"
    }
   },
   "source": [
    "![debugging](6_integration_examples/img/IDE/6.png)\n",
    "\n",
    "The result of calling `napalm_get` to retrieve the users from the system."
   ]
  },
  {
   "cell_type": "markdown",
   "metadata": {
    "slideshow": {
     "slide_type": "subslide"
    }
   },
   "source": [
    "![debugging](6_integration_examples/img/IDE/7.png)\n",
    "\n",
    "The result of calculating the users we want to remove"
   ]
  },
  {
   "cell_type": "markdown",
   "metadata": {
    "slideshow": {
     "slide_type": "subslide"
    }
   },
   "source": [
    "![debugging](6_integration_examples/img/IDE/8.png)\n",
    "Next iteration would allow us to inspect the host `spine01.bma`."
   ]
  },
  {
   "cell_type": "markdown",
   "metadata": {
    "slideshow": {
     "slide_type": "slide"
    }
   },
   "source": [
    "# Integration with other frameworks\n",
    "\n",
    "## Flask example"
   ]
  },
  {
   "cell_type": "code",
   "execution_count": 2,
   "metadata": {
    "slideshow": {
     "slide_type": "subslide"
    }
   },
   "outputs": [
    {
     "name": "stdout",
     "output_type": "stream",
     "text": [
      "from flask import Flask, jsonify\r\n",
      "from nornir import InitNornir\r\n",
      "from nornir.plugins.tasks.networking import napalm_get\r\n",
      "\r\n",
      "app = Flask(__name__)\r\n",
      "\r\n",
      "\r\n",
      "def get_nr():\r\n",
      "    return InitNornir(\r\n",
      "        inventory={\r\n",
      "            \"options\": {\r\n",
      "                \"host_file\": \"inventory/hosts.yaml\",\r\n",
      "                \"group_file\": \"inventory/groups.yaml\",\r\n",
      "                \"defaults_file\": \"inventory/defaults.yaml\",\r\n",
      "            }\r\n",
      "        }\r\n",
      "    )\r\n",
      "\r\n",
      "\r\n",
      "def to_json(results):\r\n",
      "    return jsonify({host: result[0].result for host, result in results.items()})\r\n",
      "\r\n",
      "\r\n",
      "@app.route(\"/get_users\")\r\n",
      "def get_users():\r\n",
      "    nr = get_nr()\r\n",
      "    r = nr.run(task=napalm_get, getters=[\"users\"])\r\n",
      "    return to_json(r)\r\n",
      "\r\n",
      "\r\n",
      "@app.route(\"/get_facts\")\r\n",
      "def get_facts():\r\n",
      "    nr = get_nr()\r\n",
      "    r = nr.run(task=napalm_get, getters=[\"facts\"])\r\n",
      "    return to_json(r)\r\n"
     ]
    }
   ],
   "source": [
    "!cat 6_integration_examples/napalm_rest.py"
   ]
  },
  {
   "cell_type": "markdown",
   "metadata": {
    "slideshow": {
     "slide_type": "subslide"
    }
   },
   "source": [
    "Run:\n",
    "    \n",
    "    cd notebooks/6_integration_examples && FLASK_APP=napalm_rest.py flask run"
   ]
  },
  {
   "cell_type": "markdown",
   "metadata": {
    "slideshow": {
     "slide_type": "subslide"
    }
   },
   "source": [
    "![get_users](6_integration_examples/img/flask/1.png)\n",
    "\n",
    "`get_users` endpoint"
   ]
  },
  {
   "cell_type": "markdown",
   "metadata": {
    "slideshow": {
     "slide_type": "subslide"
    }
   },
   "source": [
    "![get_facts](6_integration_examples/img/flask/2.png)\n",
    "\n",
    "`get_facts` endpoint"
   ]
  }
 ],
 "metadata": {
  "celltoolbar": "Slideshow",
  "kernelspec": {
   "display_name": "Python 3",
   "language": "python",
   "name": "python3"
  },
  "language_info": {
   "codemirror_mode": {
    "name": "ipython",
    "version": 3
   },
   "file_extension": ".py",
   "mimetype": "text/x-python",
   "name": "python",
   "nbconvert_exporter": "python",
   "pygments_lexer": "ipython3",
   "version": "3.7.0"
  }
 },
 "nbformat": 4,
 "nbformat_minor": 2
}
