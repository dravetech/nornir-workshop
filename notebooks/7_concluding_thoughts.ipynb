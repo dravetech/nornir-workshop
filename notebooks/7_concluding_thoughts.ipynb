{
 "cells": [
  {
   "cell_type": "markdown",
   "metadata": {
    "slideshow": {
     "slide_type": "slide"
    }
   },
   "source": [
    "# Concluding thoughts"
   ]
  },
  {
   "cell_type": "markdown",
   "metadata": {
    "slideshow": {
     "slide_type": "subslide"
    }
   },
   "source": [
    "While traditional YAML-based automation frameworks have done a great job at abstracting complex tasks and making them accessible, this same abstraction makes complex workflows to be cumbersome and difficult to implement. Integrating with well-known IDEs and frameworks also becomes a daunting task.\n",
    "\n",
    "Nornir aims at bringing the best of both worlds; by managing the inventory, providing native multithreading and providing useful building blocks without taking python out of the equation you get the same nice abstractions as with other frameworks while retaining the ability of writing complex workflows in native python, being able to integrate natively with other python frameworks and havint the possibility of using modern IDEs to help you write and debug your code. "
   ]
  },
  {
   "cell_type": "markdown",
   "metadata": {
    "slideshow": {
     "slide_type": "subslide"
    }
   },
   "source": [
    "## Useful links\n",
    "\n",
    "* [nornir](https://github.com/nornir-automation/nornir)\n",
    "* [issues](https://github.com/nornir-automation/nornir/issues)\n",
    "* [documentation](https://nornir.readthedocs.io/en/latest/)\n",
    "* [examples](https://github.com/nornir-automation/nornir-tools)\n",
    "* [repo with this slides](https://github.com/dravetech/nornir-workshop)"
   ]
  },
  {
   "cell_type": "markdown",
   "metadata": {
    "slideshow": {
     "slide_type": "slide"
    }
   },
   "source": [
    "# Questions?\n",
    "\n",
    "@dbarrosop"
   ]
  }
 ],
 "metadata": {
  "celltoolbar": "Slideshow",
  "kernelspec": {
   "display_name": "Python 3",
   "language": "python",
   "name": "python3"
  },
  "language_info": {
   "codemirror_mode": {
    "name": "ipython",
    "version": 3
   },
   "file_extension": ".py",
   "mimetype": "text/x-python",
   "name": "python",
   "nbconvert_exporter": "python",
   "pygments_lexer": "ipython3",
   "version": "3.7.0"
  }
 },
 "nbformat": 4,
 "nbformat_minor": 2
}
