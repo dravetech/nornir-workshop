{
 "cells": [
  {
   "cell_type": "markdown",
   "metadata": {
    "slideshow": {
     "slide_type": "slide"
    }
   },
   "source": [
    "# DIY Intent based networking"
   ]
  },
  {
   "cell_type": "markdown",
   "metadata": {
    "slideshow": {
     "slide_type": "subslide"
    }
   },
   "source": [
    "The objective of this module is to show you a few things:\n",
    "\n",
    "1. How to create your own \"complex\" tasks by leveraging existing tasks\n",
    "2. How complex workflows become simple thanks to the power of python\n",
    "\n",
    "To do that, we are going to create a task that synchronizes users; it will add missing users, modify the ones that need to be modified and remove old users. This task will be platform agnostic and will support even platforms without hierarchical config."
   ]
  },
  {
   "cell_type": "markdown",
   "metadata": {
    "slideshow": {
     "slide_type": "subslide"
    }
   },
   "source": [
    "As usual, let's initializate the nornir object:"
   ]
  },
  {
   "cell_type": "code",
   "execution_count": 1,
   "metadata": {},
   "outputs": [],
   "source": [
    "from nornir import InitNornir\n",
    "nr = InitNornir(\n",
    "    inventory={\n",
    "        \"options\": {\n",
    "            \"host_file\": \"5_manage_users/inventory/hosts.yaml\",\n",
    "            \"group_file\": \"5_manage_users/inventory/groups.yaml\",\n",
    "            \"defaults_file\": \"5_manage_users/inventory/defaults.yaml\",\n",
    "        }\n",
    "    }\n",
    ")"
   ]
  },
  {
   "cell_type": "markdown",
   "metadata": {
    "slideshow": {
     "slide_type": "subslide"
    }
   },
   "source": [
    "We are going to store the users in a yaml file different than the inventory:"
   ]
  },
  {
   "cell_type": "code",
   "execution_count": 2,
   "metadata": {},
   "outputs": [
    {
     "name": "stdout",
     "output_type": "stream",
     "text": [
      "---\r\n",
      "joe:\r\n",
      "jane:\r\n",
      "admin:\r\n"
     ]
    }
   ],
   "source": [
    "!cat 5_manage_users/data/users.yaml"
   ]
  },
  {
   "cell_type": "markdown",
   "metadata": {
    "slideshow": {
     "slide_type": "subslide"
    }
   },
   "source": [
    "Now we are going to create a template per platform that takes:\n",
    "    1. `remove_users` - users we want to remove\n",
    "    2. `desired_users` - users we want in the system"
   ]
  },
  {
   "cell_type": "code",
   "execution_count": 3,
   "metadata": {
    "slideshow": {
     "slide_type": "subslide"
    }
   },
   "outputs": [
    {
     "name": "stdout",
     "output_type": "stream",
     "text": [
      "{% for user in remove_users %}\r\n",
      "no username {{ user }}\r\n",
      "{% endfor %}\r\n",
      "\r\n",
      "{% for user in desired_users %}\r\n",
      "username {{ user }} privilege 15 role network-admin secret sha512 $6$KxgYSk1jaMjZxxBs$1Qmn8UKx7rj3tREiXrdbhXKCC2Mw0w7LwysWCY/xjAX3QDOe0whVdSbn6O50pCsAhNAqB3pk9kY0Nw2OB/Uhz1\r\n",
      "{% endfor %}\r\n"
     ]
    }
   ],
   "source": [
    "!cat 5_manage_users/templates/eos/users.j2"
   ]
  },
  {
   "cell_type": "code",
   "execution_count": 4,
   "metadata": {},
   "outputs": [
    {
     "name": "stdout",
     "output_type": "stream",
     "text": [
      "{% for user in remove_users %}\r\n",
      "delete system login user {{ user }}\r\n",
      "{% endfor %}\r\n",
      "\r\n",
      "{% for user in desired_users %}\r\n",
      "set system login user {{ user }} uid 2000\r\n",
      "set system login user {{ user }} class super-user\r\n",
      "{% endfor %}\r\n",
      "\r\n"
     ]
    }
   ],
   "source": [
    "!cat 5_manage_users/templates/junos/users.j2"
   ]
  },
  {
   "cell_type": "markdown",
   "metadata": {
    "slideshow": {
     "slide_type": "subslide"
    }
   },
   "source": [
    "First, we create a function that does what we need:"
   ]
  },
  {
   "cell_type": "code",
   "execution_count": 5,
   "metadata": {},
   "outputs": [],
   "source": [
    "from nornir.plugins.tasks.networking import napalm_configure, napalm_get\n",
    "from nornir.plugins.tasks.text import template_file\n",
    "\n",
    "def manage_users(task, desired_users):\n",
    "    # get users from device\n",
    "    state_users = task.run(task=napalm_get,\n",
    "                           getters=[\"users\"],\n",
    "                           severity_level=logging.DEBUG)\n",
    "\n",
    "    # let's verify if the users we got are in desired_users\n",
    "    # if they are not we have to remove them\n",
    "    users_to_remove = []\n",
    "    for user in state_users.result[\"users\"]:\n",
    "        if user not in desired_users:\n",
    "            users_to_remove.append(user)\n",
    "    \n",
    "    # we render the template for the platform passing desired_users and users_to_remove\n",
    "    users_config = task.run(task=template_file,\n",
    "                            path=f\"5_manage_users/templates/{task.host.platform}\",\n",
    "                            template=\"users.j2\",\n",
    "                            desired_users=desired_users,\n",
    "                            remove_users=users_to_remove,\n",
    "                            severity_level=logging.DEBUG)\n",
    "    \n",
    "    # we load the resulting configuration into the device\n",
    "    task.run(task=napalm_configure,\n",
    "             configuration=users_config.result)\n"
   ]
  },
  {
   "cell_type": "code",
   "execution_count": 6,
   "metadata": {
    "slideshow": {
     "slide_type": "subslide"
    }
   },
   "outputs": [],
   "source": [
    "import logging\n",
    "\n",
    "import ruamel.yaml\n",
    "\n",
    "from nornir.plugins.functions.text import print_result\n",
    "    \n",
    "# we load from a yaml file the users we want\n",
    "yaml = ruamel.yaml.YAML()\n",
    "with open(\"5_manage_users/data/users.yaml\", \"r\") as f:\n",
    "    desired_users = yaml.load(f.read())\n",
    "\n",
    "spines = nr.filter(role=\"spine\")\n",
    "\n",
    "# we call manage_users passing the users we loaded from the yaml file\n",
    "r = spines.run(task=manage_users,\n",
    "               desired_users=desired_users)"
   ]
  },
  {
   "cell_type": "code",
   "execution_count": 7,
   "metadata": {
    "slideshow": {
     "slide_type": "subslide"
    }
   },
   "outputs": [
    {
     "name": "stdout",
     "output_type": "stream",
     "text": [
      "\u001b[1m\u001b[36mmanage_users********************************************************************\u001b[0m\n",
      "\u001b[0m\u001b[1m\u001b[34m* spine00.bma ** changed : True ************************************************\u001b[0m\n",
      "\u001b[0m\u001b[1m\u001b[32mvvvv manage_users ** changed : False vvvvvvvvvvvvvvvvvvvvvvvvvvvvvvvvvvvvvvvvvvv INFO\u001b[0m\n",
      "\u001b[0m\u001b[1m\u001b[33m---- napalm_configure ** changed : True ---------------------------------------- INFO\u001b[0m\n",
      "\u001b[0m@@ -14,8 +14,9 @@\n",
      " !\n",
      " aaa root secret sha512 $6$XoN/NKq7rqSxD9ov$xeiYtli3w.fEiNCsYQ4aJkWWZCor6tNVOwaTwB0UinZTTtV0qBk0VvNBlR4Kcsctbf6atsrKt3iTLc9wzOqoT1\n",
      " !\n",
      "-username bob privilege 15 role network-admin secret sha512 $6$6ToHoIeHQFIQeBTL$2iEVU6ReAVTNaoaxdSawgsa2e/dOxclhMb2D7X7vKYpNKmsXRyEs6YhTxij24i10d.IozA5cKVok5zm2lmV0v/\n",
      "+username joe privilege 15 role network-admin secret sha512 $6$KxgYSk1jaMjZxxBs$1Qmn8UKx7rj3tREiXrdbhXKCC2Mw0w7LwysWCY/xjAX3QDOe0whVdSbn6O50pCsAhNAqB3pk9kY0Nw2OB/Uhz1\n",
      "+username jane privilege 15 role network-admin secret sha512 $6$KxgYSk1jaMjZxxBs$1Qmn8UKx7rj3tREiXrdbhXKCC2Mw0w7LwysWCY/xjAX3QDOe0whVdSbn6O50pCsAhNAqB3pk9kY0Nw2OB/Uhz1\n",
      " !\n",
      " interface Ethernet1\n",
      " !\u001b[0m\n",
      "\u001b[0m\u001b[1m\u001b[32m^^^^ END manage_users ^^^^^^^^^^^^^^^^^^^^^^^^^^^^^^^^^^^^^^^^^^^^^^^^^^^^^^^^^^\u001b[0m\n",
      "\u001b[0m\u001b[1m\u001b[34m* spine01.bma ** changed : True ************************************************\u001b[0m\n",
      "\u001b[0m\u001b[1m\u001b[32mvvvv manage_users ** changed : False vvvvvvvvvvvvvvvvvvvvvvvvvvvvvvvvvvvvvvvvvvv INFO\u001b[0m\n",
      "\u001b[0m\u001b[1m\u001b[33m---- napalm_configure ** changed : True ---------------------------------------- INFO\u001b[0m\n",
      "\u001b[0m[edit system login]\n",
      "+    user admin {\n",
      "+        uid 2000;\n",
      "+        class super-user;\n",
      "+    }\n",
      "+    user joe {\n",
      "+        uid 2000;\n",
      "+        class super-user;\n",
      "+    }\n",
      "+    user jane {\n",
      "+        uid 2000;\n",
      "+        class super-user;\n",
      "+    }\n",
      "-    user bob {\n",
      "-        uid 2000;\n",
      "-        class super-user;\n",
      "-        authentication {\n",
      "-            ssh-rsa \"ssh-rsa AAAAB3NzaC1yc2EAAAABIwAAAQEA6NF8iallvQVp22WDkTkyrtvp9eWW6A8YVr+kz4TjGYe7gHzIw+niNltGEFHzD8+v1I2YJ6oXevct1YeS0o9HZyN1Q9qgCgzUFtdOKLv6IedplqoPkcmF0aYet2PkEDo3MlTBckFXPITAMzF8dJSIFo9D8HfdOV0IAdx4O7PtixWKn5y2hMNG0zQPyUecp4pzC6kivAIhyfHilFR61RGL+GPXQ2MWZWFYbAGjyiYJnAmCP3NOTd0jMZEnDkbUvxhMmBYSdETk1rRgm+R4LOzFUGaHqHDLKLX+FIPKcF96hrucXzcWyLbIbEgE98OHlnVYCzRdK8jlqm8tehUc9c9WhQ== vagrant insecure public key\"; ## SECRET-DATA\n",
      "-        }\n",
      "-    }\u001b[0m\n",
      "\u001b[0m\u001b[1m\u001b[32m^^^^ END manage_users ^^^^^^^^^^^^^^^^^^^^^^^^^^^^^^^^^^^^^^^^^^^^^^^^^^^^^^^^^^\u001b[0m\n",
      "\u001b[0m"
     ]
    }
   ],
   "source": [
    "print_result(r)"
   ]
  }
 ],
 "metadata": {
  "celltoolbar": "Slideshow",
  "kernelspec": {
   "display_name": "Python 3",
   "language": "python",
   "name": "python3"
  },
  "language_info": {
   "codemirror_mode": {
    "name": "ipython",
    "version": 3
   },
   "file_extension": ".py",
   "mimetype": "text/x-python",
   "name": "python",
   "nbconvert_exporter": "python",
   "pygments_lexer": "ipython3",
   "version": "3.7.0"
  }
 },
 "nbformat": 4,
 "nbformat_minor": 2
}
